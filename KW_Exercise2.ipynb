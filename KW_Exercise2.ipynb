{
 "cells": [
  {
   "cell_type": "markdown",
   "metadata": {},
   "source": [
    "# Helicoprion\n",
    "[Source:Wikipedia](https://en.wikipedia.org/wiki/Helicoprion) Disclaimer: All materials are being used for demonstration purposes only\n",
    "\n",
    "Helicoprion is a genus of extinct, shark-like[2] eugeneodontid holocephalian fish. Almost all fossil specimens are of spirally arranged clusters of the individuals' teeth, called \"tooth whorls\"— the cartilaginous skull, spine, and other structural elements have not been preserved in the fossil record, leaving scientists to make educated guesses as to its anatomy and behavior. Helicoprion lived in the oceans of the early Permian[3] 290 million years ago, with species known from North America, Eastern Europe, Asia, and Australia.[4] The closest living relatives of Helicoprion (and other eugeneodontids) are the chimaeras.[5] "
   ]
  },
  {
   "cell_type": "markdown",
   "metadata": {},
   "source": [
    "![Helicoprion image](https://upload.wikimedia.org/wikipedia/commons/thumb/b/be/Helicoprion_tooth_whorl.jpg/220px-Helicoprion_tooth_whorl.jpg)"
   ]
  },
  {
   "cell_type": "markdown",
   "metadata": {},
   "source": [
    "## Description\n",
    "\n",
    "In 2011, a tooth whorl from a Helicoprion was discovered in the Phosphoria site in Idaho. The tooth whorl measured 45 cm (18 in) in length. Comparisons with other Helicoprion specimens show that the animal that sported this whorl would have been 10 m (33 ft) in length, and another, even bigger tooth whorl that was discovered in 1980s (but was not published until 2013) which the discoverers dubbed IMNH 49382 or \"Boise\" was discovered at the same site. The whorl is incomplete, but in life it would have been 60 cm (24 in) long and would have belonged to an animal that possibly exceeded 12 m (39 ft) in length, making Helicoprion the largest known eugeneodont.[6] "
   ]
  },
  {
   "cell_type": "markdown",
   "metadata": {},
   "source": [
    "![Helicorpion Drawing](Helicoprion.png)"
   ]
  },
  {
   "cell_type": "markdown",
   "metadata": {},
   "source": [
    "### Tooth-whorl\n",
    "\n",
    "Until 2013, the only known fossils of this genus on record were their teeth, which were arranged in a \"tooth-whorl\" strongly reminiscent of a circular saw. As the skeletons of chondrichthyid fish are made of cartilage, including those of Helicoprion and other eugeneodonts, the entire body disintegrates once it begins to decay, unless exceptional circumstances preserve it. The tooth-whorl was not realized to be in the lower jaw until the discovery of the skull of a related genus of eugeneodont, Ornithoprion. The tooth-whorl represented all the teeth produced by that individual in the lower jaw; as the individual grew, the older, smaller teeth were moved into the center of the whorl by larger, newer teeth appearing. Models of the Helicoprion tooth-whorl have been made. In the 1994 book Planet Ocean: A Story of Life, the Sea, and Dancing to the Fossil Record, author Brad Matsen and artist Ray Troll describe and depict an example of such a model. They proposed that no teeth were present in the animal's upper jaw besides the crushing teeth for the whorl to cut against. The two envision the living animal to have a long and very narrow skull, creating a long nose akin to the modern-day goblin shark. According to their studies, the fossils that have been found are essentially a growth ring, as each set of new teeth pushes the previous set into the whorl.[7]\n",
    "\n",
    "For over a century, whether the tooth-whorl was situated in the lower jaw was not certain. Older reconstructions placed the whorl in the front of the lower jaw. A 2008 reconstruction, created by Mary Parrish under the direction of Robert Purdy, Victor Springer, and Matt Carrano for the Smithsonian, places the whorl deeper into the throat,[3] although other studies did not accept this conclusion.[8][9] A 2013 study based on new data places the tooth-whorl at the back of the jaw, where the tooth-whorl occupied the entire mandibular arch.[5] \n",
    "In his 1939 article, author Harry E. Wheeler describes another Helicoprion fossil, based on the species H. sierrensis, collected by J. H. Menke, that resides at the University of Nevada, W. M. Keck Earth Science and Mineral Engineering Museum. This fossil is number 1002 and is currently on display in case 62. The mouth consists of a whorl separated into three and a quarter volutions. The biggest diameter is about 170 mm (6.7 in). The whorls have a separation of about 1 mm (0.039 in) in the first volution, and it goes to about 8 mm (0.31 in) at the largest whorl displayed. The specimen has a total of about 32 teeth in the first volution, 36 in the second, and 41 in the last. The teeth at the end of the first volution are about 7 mm (0.28 in) long and are about 2.4 in (61 mm) in width, reaching about 40 mm (1.6 in) long and 9.5 wide at the end of the third. The teeth are symmetrically opposed to one another.[10]\n",
    "\n",
    "Additionally, other extinct fish, such as the Onychodontiformes, have analogous tooth-whorls at the front of the jaw, suggesting that such whorls are not as substantial of an impediment to swimming as suggested in Purdy's hypothesis. While no complete skulls of Helicoprion have been officially described, the fact that related species of chondrichthyids had long, pointed snouts suggests that Helicoprion did, as well.[citation needed]"
   ]
  },
  {
   "cell_type": "markdown",
   "metadata": {},
   "source": [
    "![Helicoprion Drawing](https://upload.wikimedia.org/wikipedia/commons/thumb/7/79/Karpinsky_1899_Helicoprion_bessonowi_Fig._73.png/791px-Karpinsky_1899_Helicoprion_bessonowi_Fig._73.png)\n",
    "[Citation](https://en.wikipedia.org/wiki/File:Karpinsky_1899_Helicoprion_bessonowi_Fig._73.png)"
   ]
  },
  {
   "cell_type": "markdown",
   "metadata": {},
   "source": [
    "## Distribution\n",
    "\n",
    "Helicoprion species proliferated greatly during the early Permian. Fossils have been found in the Ural Mountains, Western Australia, China[11] (together with the related genera Sinohelicoprion and Hunanohelicoprion), and Western North America, including the Canadian Arctic, Mexico, Idaho, Nevada, Wyoming, Texas, Utah, and California. More than 50% of Helicoprion specimens are known from Idaho, with an additional 25% being found in the Ural Mountains.[4] Due to the fossils' locations, the various species of Helicoprion may have lived off the southwestern coast of Gondwana, and later, Pangaea.[12] "
   ]
  },
  {
   "cell_type": "markdown",
   "metadata": {},
   "source": [
    "## Species\n",
    "\n",
    "### H. bessonowi\n",
    "\n",
    "Helicoprion was first described by Alexander Karpinsky in 1899 from a fossil found in Artinskian-age limestones of the Ural Mountains.[13] Karpinsky named the type species Helicoprion bessonowi; Oliver Perry Hay originally described the species. This species can be differentiated from others by a short and narrowly spaced tooth whorl, backward-directed tooth tips, obtusely-angled tooth bases, and a consistently narrow whorl shaft.[4]\n",
    "\n",
    "One of two Helicoprion species described by Wheeler in 1939, H. nevadensis, is based on a single partial fossil found in 1929 by Elbert A Stuart.[10] It was reported as having originated from the Rochester Trachyte deposits, which Wheeler considered to be of Artinskian age. However, the Rochester Trachyte is in fact Triassic, and H. nevadensis likely did not originate in the Rochester Trachyte, thus rendering its true age unknown. Wheeler differentiated H. nevadensis from H. bessonowi by its pattern of whorl expansion and tooth height, but Leif Tapanila and Jesse Pruitt showed in 2013 that these were consistent with H. bessonowi at the developmental stage that the specimen represents.[4]\n",
    "\n",
    "Based on isolated teeth and partial whorls found on the island of Spitsbergen, Norway, H. svalis was described by Stanisław Siedlecki in 1970. The type specimen, a very large whorl, was noted for its narrow teeth that apparently are not in contact with each other, but this seems to be a consequence of only the central part of the teeth being preserved, according to Tapanila and Pruitt. Since the whorl shaft is partially obscured, H. svalis cannot be definitely assigned to H. bessonowi, but it closely approaches the latter species in many aspects of its proportions. With a maximum volution height of 72 mm (2.8 in), H. svalis is similar in size to the largest H. bessonowi, which has a maximum volution height of 76 mm (3.0 in).[4] \n",
    "\n",
    "![H bessonowi](https://upload.wikimedia.org/wikipedia/commons/thumb/a/a1/Helicoprion_bessonovi_cropped.png/220px-Helicoprion_bessonovi_cropped.png)\n",
    "\n",
    "### H. davisii\n",
    "\n",
    "H. davisii was described initially from a series of 15 teeth found in Western Australia. They were described by H. Woodward in 1886 as a species of Edestus, E. davisii. Upon naming H. bessonowi, Karpinsky also reassigned this species to Helicoprion, an identification subsequently supported by the discovery of two additional and more complete tooth whorls in Western Australia. The species is characterized by a tall and widely spaced tooth whorl, with these becoming more pronounced with age. The teeth also noticeably curve forwards. During the Kungurian and Roadian, this species was very common worldwide.[4]\n",
    "H. davisii (=H. ferrieri) tooth-whorl, Glass Mountains, Texas\n",
    "\n",
    "H. ferrieri was originally described as a species of the genus Lissoprion in 1907, from fossils found in the Phosphoria Formation of Idaho. An additional specimen, tentatively referred to H. ferrieri, was described in 1955. That specimen was found in Wolfcampian-age quartzites exposed on China Mountain, six miles southeast of Contact, Nevada. The 100-mm-wide fossil consists of one and three-quarters whorls and about 61 preserved teeth. Due to weathering, the rest of the fossil was lost and the preserved section is distorted from slippage of the host rock.[13] While initially differentiated using the metrics of tooth angle and height, Tapanila and Pruitt considered these characteristics to be intraspecifically variable, reassigning H. ferrieri to H. davisii.[4]\n",
    "\n",
    "H. jingmenense was described in 2007 from a nearly complete tooth whorl with four and a third volutions (part and counterpart) found in the Lower Permian Qixia Formation of Hubei Province, China. It was discovered during road construction. The specimen is very similar to H. ferrieri and H. bessonowi, though it differs from the former by having teeth with a wider cutting blade, and a shorter compound root, and differs from the latter by having fewer than 39 teeth per volution.[11] Tapanila and Pruitt argued that the specimen was partially obscured by the surrounding matrix, resulting in an underestimation of tooth height. Taking into account intraspecific variation, they synonymized it with H. davisii.[4] \n",
    "\n",
    "![H davisii Fossil](https://upload.wikimedia.org/wikipedia/commons/thumb/b/b7/Helicoprion_ferrieri_fossil_shark_jaw%2C_Brewster_County_TX.jpg/220px-Helicoprion_ferrieri_fossil_shark_jaw%2C_Brewster_County_TX.jpg)\n",
    "\n",
    "### H. ergassaminon\n",
    "\n",
    "H. ergassaminon, the rarer species from the Phosphoria Formation, was described in detail within a 1966 monograph by Svend Erik Bendix-Almgreen. The holotype specimen (\"Idaho 5\"), now lost, bore breakage and wear marks indicative of its usage in feeding. Several referred specimens exist, none of which show wear marks. This species is roughly intermediate between the two contrasting forms represented by H. bessonowi and H. davisii, having tall but narrowly-spaced teeth. Its teeth are also gently curved, with obtusely-angled tooth bases.[4] \n",
    "\n",
    "### Other material\n",
    "\n",
    "Several large whorls are difficult to assign to any particular species group, H. svalis among them. IMNH 14095, a specimen from Idaho, appears to be similar to H. bessonowi, but it has unique flange-like edges on the apices of its teeth. IMNH 49382, also from Idaho, has the largest known whorl diameter at 56 mm (2.2 in) for the outermost volution (the only one preserved), but it is incompletely preserved and still partially buried.[4]\n",
    "\n",
    "H. mexicanus, named by F.K.G. Müllerreid in 1945 and supposedly distinguished by its tooth ornamentation, has a holotype that is currently missing, but its morphology was similar to IMNH 49382. In the absence of other material, it is currently a nomen dubium. Vladimir Obruchev described H. karpinskii from two teeth in 1953. He provided no distinguishing traits for this species, thus it must be regarded as a nomen nudum.[4] "
   ]
  },
  {
   "cell_type": "code",
   "execution_count": null,
   "metadata": {},
   "outputs": [],
   "source": []
  }
 ],
 "metadata": {
  "kernelspec": {
   "display_name": "Python 3",
   "language": "python",
   "name": "python3"
  },
  "language_info": {
   "codemirror_mode": {
    "name": "ipython",
    "version": 3
   },
   "file_extension": ".py",
   "mimetype": "text/x-python",
   "name": "python",
   "nbconvert_exporter": "python",
   "pygments_lexer": "ipython3",
   "version": "3.8.5"
  }
 },
 "nbformat": 4,
 "nbformat_minor": 4
}
