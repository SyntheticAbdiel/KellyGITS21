{
 "cells": [
  {
   "cell_type": "markdown",
   "metadata": {},
   "source": [
    "# If Statements/While Statements"
   ]
  },
  {
   "cell_type": "code",
   "execution_count": 1,
   "metadata": {},
   "outputs": [],
   "source": [
    "snowfall = [81.2,61.9,61.4,43.8,64.1,40.5,33.8]"
   ]
  },
  {
   "cell_type": "code",
   "execution_count": 2,
   "metadata": {},
   "outputs": [
    {
     "name": "stdout",
     "output_type": "stream",
     "text": [
      "81.2\n",
      "143.1\n",
      "204.5\n",
      "248.3\n",
      "312.4\n",
      "352.9\n",
      "386.7\n",
      "386.7\n",
      "55.24285714285714\n"
     ]
    }
   ],
   "source": [
    "x=0\n",
    "for i in snowfall:\n",
    "    x = x+i\n",
    "    print(x)\n",
    "print(x)\n",
    "len(snowfall)\n",
    "avg = x/len(snowfall)\n",
    "print(avg)"
   ]
  },
  {
   "cell_type": "code",
   "execution_count": 3,
   "metadata": {},
   "outputs": [],
   "source": [
    "lowsnow = []\n",
    "condition = True\n",
    "snowfall = [81.2,61.9,61.4,43.8,64.1,40.5,33.8]\n",
    "while condition:\n",
    "    for i in snowfall:   \n",
    "        if i <=45:\n",
    "            lowsnow.append(i)\n",
    "        else: \n",
    "            condition=False\n",
    "    break"
   ]
  },
  {
   "cell_type": "code",
   "execution_count": 4,
   "metadata": {},
   "outputs": [
    {
     "name": "stdout",
     "output_type": "stream",
     "text": [
      "43.8\n",
      "84.3\n",
      "118.1\n",
      "118.1\n",
      "39.36666666666667\n",
      "[43.8, 40.5, 33.8]\n"
     ]
    }
   ],
   "source": [
    "lowsnow\n",
    "\n",
    "x=0\n",
    "for i in lowsnow:\n",
    "    x = x+i\n",
    "    print(x)\n",
    "print(x)\n",
    "len(lowsnow)\n",
    "avg = x/len(lowsnow)\n",
    "print(avg)\n",
    "print(lowsnow)"
   ]
  },
  {
   "cell_type": "code",
   "execution_count": 6,
   "metadata": {},
   "outputs": [
    {
     "ename": "KeyboardInterrupt",
     "evalue": "Interrupted by user",
     "output_type": "error",
     "traceback": [
      "\u001b[1;31m---------------------------------------------------------------------------\u001b[0m",
      "\u001b[1;31mKeyboardInterrupt\u001b[0m                         Traceback (most recent call last)",
      "\u001b[1;32m<ipython-input-6-8e7974e32c5a>\u001b[0m in \u001b[0;36m<module>\u001b[1;34m\u001b[0m\n\u001b[1;32m----> 1\u001b[1;33m \u001b[0mcitysnow\u001b[0m \u001b[1;33m=\u001b[0m \u001b[0mfloat\u001b[0m\u001b[1;33m(\u001b[0m\u001b[0minput\u001b[0m\u001b[1;33m(\u001b[0m\u001b[1;34m'Enter the snowfall amount for your city: '\u001b[0m\u001b[1;33m)\u001b[0m\u001b[1;33m)\u001b[0m\u001b[1;33m\u001b[0m\u001b[1;33m\u001b[0m\u001b[0m\n\u001b[0m\u001b[0;32m      2\u001b[0m \u001b[1;32mif\u001b[0m \u001b[0mcitysnow\u001b[0m \u001b[1;33m>\u001b[0m \u001b[1;36m65\u001b[0m\u001b[1;33m:\u001b[0m\u001b[1;33m\u001b[0m\u001b[1;33m\u001b[0m\u001b[0m\n\u001b[0;32m      3\u001b[0m     \u001b[0mprint\u001b[0m\u001b[1;33m(\u001b[0m\u001b[1;34m'Your city is excessive for snowfall.'\u001b[0m\u001b[1;33m)\u001b[0m\u001b[1;33m\u001b[0m\u001b[1;33m\u001b[0m\u001b[0m\n\u001b[0;32m      4\u001b[0m \u001b[1;32melif\u001b[0m \u001b[0mcitysnow\u001b[0m \u001b[1;33m<=\u001b[0m\u001b[1;36m65\u001b[0m \u001b[1;32mand\u001b[0m \u001b[0mcitysnow\u001b[0m \u001b[1;33m>\u001b[0m\u001b[1;36m40\u001b[0m\u001b[1;33m:\u001b[0m\u001b[1;33m\u001b[0m\u001b[1;33m\u001b[0m\u001b[0m\n\u001b[0;32m      5\u001b[0m         \u001b[0mprint\u001b[0m\u001b[1;33m(\u001b[0m\u001b[1;34m'Your city receives moderate snowfall'\u001b[0m\u001b[1;33m)\u001b[0m\u001b[1;33m\u001b[0m\u001b[1;33m\u001b[0m\u001b[0m\n",
      "\u001b[1;32m~\\anaconda3\\lib\\site-packages\\ipykernel\\kernelbase.py\u001b[0m in \u001b[0;36mraw_input\u001b[1;34m(self, prompt)\u001b[0m\n\u001b[0;32m    858\u001b[0m                 \u001b[1;34m\"raw_input was called, but this frontend does not support input requests.\"\u001b[0m\u001b[1;33m\u001b[0m\u001b[1;33m\u001b[0m\u001b[0m\n\u001b[0;32m    859\u001b[0m             )\n\u001b[1;32m--> 860\u001b[1;33m         return self._input_request(str(prompt),\n\u001b[0m\u001b[0;32m    861\u001b[0m             \u001b[0mself\u001b[0m\u001b[1;33m.\u001b[0m\u001b[0m_parent_ident\u001b[0m\u001b[1;33m,\u001b[0m\u001b[1;33m\u001b[0m\u001b[1;33m\u001b[0m\u001b[0m\n\u001b[0;32m    862\u001b[0m             \u001b[0mself\u001b[0m\u001b[1;33m.\u001b[0m\u001b[0m_parent_header\u001b[0m\u001b[1;33m,\u001b[0m\u001b[1;33m\u001b[0m\u001b[1;33m\u001b[0m\u001b[0m\n",
      "\u001b[1;32m~\\anaconda3\\lib\\site-packages\\ipykernel\\kernelbase.py\u001b[0m in \u001b[0;36m_input_request\u001b[1;34m(self, prompt, ident, parent, password)\u001b[0m\n\u001b[0;32m    902\u001b[0m             \u001b[1;32mexcept\u001b[0m \u001b[0mKeyboardInterrupt\u001b[0m\u001b[1;33m:\u001b[0m\u001b[1;33m\u001b[0m\u001b[1;33m\u001b[0m\u001b[0m\n\u001b[0;32m    903\u001b[0m                 \u001b[1;31m# re-raise KeyboardInterrupt, to truncate traceback\u001b[0m\u001b[1;33m\u001b[0m\u001b[1;33m\u001b[0m\u001b[1;33m\u001b[0m\u001b[0m\n\u001b[1;32m--> 904\u001b[1;33m                 \u001b[1;32mraise\u001b[0m \u001b[0mKeyboardInterrupt\u001b[0m\u001b[1;33m(\u001b[0m\u001b[1;34m\"Interrupted by user\"\u001b[0m\u001b[1;33m)\u001b[0m \u001b[1;32mfrom\u001b[0m \u001b[1;32mNone\u001b[0m\u001b[1;33m\u001b[0m\u001b[1;33m\u001b[0m\u001b[0m\n\u001b[0m\u001b[0;32m    905\u001b[0m             \u001b[1;32mexcept\u001b[0m \u001b[0mException\u001b[0m \u001b[1;32mas\u001b[0m \u001b[0me\u001b[0m\u001b[1;33m:\u001b[0m\u001b[1;33m\u001b[0m\u001b[1;33m\u001b[0m\u001b[0m\n\u001b[0;32m    906\u001b[0m                 \u001b[0mself\u001b[0m\u001b[1;33m.\u001b[0m\u001b[0mlog\u001b[0m\u001b[1;33m.\u001b[0m\u001b[0mwarning\u001b[0m\u001b[1;33m(\u001b[0m\u001b[1;34m\"Invalid Message:\"\u001b[0m\u001b[1;33m,\u001b[0m \u001b[0mexc_info\u001b[0m\u001b[1;33m=\u001b[0m\u001b[1;32mTrue\u001b[0m\u001b[1;33m)\u001b[0m\u001b[1;33m\u001b[0m\u001b[1;33m\u001b[0m\u001b[0m\n",
      "\u001b[1;31mKeyboardInterrupt\u001b[0m: Interrupted by user"
     ]
    }
   ],
   "source": [
    "citysnow = float(input('Enter the snowfall amount for your city: '))\n",
    "if citysnow > 65:\n",
    "    print('Your city is excessive for snowfall.')\n",
    "elif citysnow <=65 and citysnow >40:\n",
    "        print('Your city receives moderate snowfall')\n",
    "else:\n",
    "    print('Your city does not receive much snowfall.')"
   ]
  },
  {
   "cell_type": "markdown",
   "metadata": {},
   "source": [
    "# Function"
   ]
  },
  {
   "cell_type": "code",
   "execution_count": 7,
   "metadata": {},
   "outputs": [],
   "source": [
    "def greeting(firstname):\n",
    "    print(f'Hi{firstname}! It is nice to meet you.')"
   ]
  },
  {
   "cell_type": "code",
   "execution_count": 8,
   "metadata": {},
   "outputs": [
    {
     "name": "stdout",
     "output_type": "stream",
     "text": [
      "Hi Kelly! It is nice to meet you.\n"
     ]
    }
   ],
   "source": [
    "greeting(' Kelly')"
   ]
  },
  {
   "cell_type": "code",
   "execution_count": 9,
   "metadata": {},
   "outputs": [],
   "source": [
    "def greeting():\n",
    "    firstname=input('Enter your firstname')\n",
    "    print(f'Hi {firstname}! It is nice to meet you')"
   ]
  },
  {
   "cell_type": "code",
   "execution_count": 10,
   "metadata": {},
   "outputs": [
    {
     "name": "stdout",
     "output_type": "stream",
     "text": [
      "Enter your firstname\n",
      "Hi ! It is nice to meet you\n"
     ]
    }
   ],
   "source": [
    "greeting()"
   ]
  },
  {
   "cell_type": "code",
   "execution_count": 11,
   "metadata": {},
   "outputs": [],
   "source": [
    "def dd(direction,degrees,minutes,seconds):\n",
    "    return direction * (degrees + (minutes + seconds/60)/60)"
   ]
  },
  {
   "cell_type": "code",
   "execution_count": 12,
   "metadata": {},
   "outputs": [
    {
     "data": {
      "text/plain": [
       "-25.267127777777777"
      ]
     },
     "execution_count": 12,
     "metadata": {},
     "output_type": "execute_result"
    }
   ],
   "source": [
    "dd(-1,25,16,1.66)"
   ]
  },
  {
   "cell_type": "code",
   "execution_count": 13,
   "metadata": {},
   "outputs": [
    {
     "data": {
      "text/plain": [
       "153.2385277777778"
      ]
     },
     "execution_count": 13,
     "metadata": {},
     "output_type": "execute_result"
    }
   ],
   "source": [
    "dd(1,153,14,18.70)"
   ]
  },
  {
   "cell_type": "code",
   "execution_count": 14,
   "metadata": {},
   "outputs": [
    {
     "data": {
      "text/plain": [
       "48.270133333333334"
      ]
     },
     "execution_count": 14,
     "metadata": {},
     "output_type": "execute_result"
    }
   ],
   "source": [
    "dd(1,48,16,12.48)"
   ]
  },
  {
   "cell_type": "code",
   "execution_count": 15,
   "metadata": {},
   "outputs": [
    {
     "data": {
      "text/plain": [
       "11.468291666666667"
      ]
     },
     "execution_count": 15,
     "metadata": {},
     "output_type": "execute_result"
    }
   ],
   "source": [
    "dd(1,11,28,5.85)"
   ]
  },
  {
   "cell_type": "code",
   "execution_count": 54,
   "metadata": {},
   "outputs": [
    {
     "name": "stdout",
     "output_type": "stream",
     "text": [
      "9833.06 8985.78 854.04\n",
      "The distance between the SS Maheno and the Dachau Concentration Camp Memorial is 9833.06 miles, the distance between the SS Maheno and Prypyat is 8985.78 miles, and the distance between the Dachau Concentration Camp Memorial is 854.04 Miles\n"
     ]
    }
   ],
   "source": [
    "import math\n",
    "radius = 6371\n",
    "lat1 = -25.267127777777777 * (math.pi/180)\n",
    "lon1 = 153.2385277777778 * (math.pi/180)\n",
    "lat2 = 48.27013333333333 * (math.pi/180)\n",
    "lon2 = 11.468291666666667 * (math.pi/180)\n",
    "lat3 = 51.404267 * (math.pi/180)\n",
    "lon3 = 30.054160 * (math.pi/180)\n",
    "\n",
    "latd = lat1-lat2\n",
    "lond = lon1-lon2\n",
    "latc = lat1-lat3\n",
    "lonc = lon1-lon3\n",
    "latb = lat2-lat3\n",
    "lonb = lon2-lon3\n",
    "\n",
    "a = math.sin(latd/2)**2 + math.cos(lat1) * math.cos(lat2) * math.sin(lond/2)**2\n",
    "\n",
    "c = 2 * math.atan2(math.sqrt(a), math.sqrt(1-a))\n",
    "\n",
    "d = round(radius * c * 0.621371,2)\n",
    "\n",
    "a1 = math.sin(latc/2)**2 + math.cos(lat1) * math.cos(lat3) * math.sin(lonc/2)**2\n",
    "\n",
    "c1 =  2 * math.atan2(math.sqrt(a1), math.sqrt(1-a1))\n",
    "\n",
    "d1 = round(radius * c1 * 0.621771,2)\n",
    "\n",
    "a2 = math.sin(latb/2)**2 + math.cos(lat2) * math.cos(lat3) * math.sin(lonb/2)**2\n",
    "\n",
    "c2 = 2 * math.atan2(math.sqrt(a2), math.sqrt(1-a2))\n",
    "\n",
    "d2 = round(radius * c2 * 0.621771,2)\n",
    "\n",
    "print(d, d1, d2)\n",
    "\n",
    "print(f'The distance between the SS Maheno and the Dachau Concentration Camp Memorial is {d} miles, the distance between the SS Maheno and Prypyat is {d1} miles, and the distance between the Dachau Concentration Camp Memorial is {d2} Miles')"
   ]
  },
  {
   "cell_type": "markdown",
   "metadata": {},
   "source": [
    "ss maheno: -25.267127,153.238528\n",
    "dachau:  48.270133, 11.468291\n",
    "prypyat: 51.404267, 30.054160"
   ]
  },
  {
   "cell_type": "code",
   "execution_count": 45,
   "metadata": {},
   "outputs": [],
   "source": [
    "def distance():\n",
    "    latd=input('Enter Latitude D')\n",
    "    lond=input('Enter Longitude D')\n",
    "    latc=input('Enter Latitude C')\n",
    "    lonc=input('Enter Longitude C')\n",
    "    latb=input('Enter Latitude B')\n",
    "    lonb=input('Enter Longitude B')"
   ]
  },
  {
   "cell_type": "code",
   "execution_count": 42,
   "metadata": {},
   "outputs": [
    {
     "name": "stdout",
     "output_type": "stream",
     "text": [
      "Enter Latitude D -1.2834673292876726\n",
      "Enter Longitude D 2.4743574014686507\n",
      "Enter Latitude C -1.3381682809686084\n",
      "Enter Longitude C 2.149972804709833\n",
      "Enter Latitude B -0.054700951680935805\n",
      "Enter Longitude B -0.3243845967588176\n"
     ]
    }
   ],
   "source": [
    "distance()"
   ]
  },
  {
   "cell_type": "code",
   "execution_count": 46,
   "metadata": {},
   "outputs": [
    {
     "ename": "SyntaxError",
     "evalue": "EOL while scanning string literal (<ipython-input-46-02efbc2ebee4>, line 1)",
     "output_type": "error",
     "traceback": [
      "\u001b[1;36m  File \u001b[1;32m\"<ipython-input-46-02efbc2ebee4>\"\u001b[1;36m, line \u001b[1;32m1\u001b[0m\n\u001b[1;33m    print(f'The distance between the SS Maheno and the Dachau Concentration Camp Memorial is (d))\u001b[0m\n\u001b[1;37m                                                                                                 ^\u001b[0m\n\u001b[1;31mSyntaxError\u001b[0m\u001b[1;31m:\u001b[0m EOL while scanning string literal\n"
     ]
    }
   ],
   "source": []
  },
  {
   "cell_type": "code",
   "execution_count": null,
   "metadata": {},
   "outputs": [],
   "source": []
  }
 ],
 "metadata": {
  "kernelspec": {
   "display_name": "Python 3",
   "language": "python",
   "name": "python3"
  },
  "language_info": {
   "codemirror_mode": {
    "name": "ipython",
    "version": 3
   },
   "file_extension": ".py",
   "mimetype": "text/x-python",
   "name": "python",
   "nbconvert_exporter": "python",
   "pygments_lexer": "ipython3",
   "version": "3.8.5"
  }
 },
 "nbformat": 4,
 "nbformat_minor": 4
}
