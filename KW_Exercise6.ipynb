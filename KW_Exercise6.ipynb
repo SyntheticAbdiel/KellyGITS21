{
 "cells": [
  {
   "cell_type": "code",
   "execution_count": 1,
   "id": "constitutional-soccer",
   "metadata": {},
   "outputs": [],
   "source": [
    "city = ['Seattle', 'San Francisco', 'Los Angeles', 'Denver', 'Salt Lake City', 'Phoenix', 'Chicago', 'St. Louis', 'Dallas', 'Boston', 'Washington D.C.', 'Miami']\n",
    "totaldays = [306, 314, 275, 366, 366, 366, 366, 366, 306, 306, 366, 275]\n",
    "poordays = [14, 22, 119, 34, 21, 70, 28, 10, 24, 0, 3, 2]\n",
    "aqimed = [42, 45, 81, 58, 50, 75, 56, 52, 49, 42, 42, 44]\n",
    "zone = ['west', 'west', 'west', 'mountain',' mountain', 'mountain', 'central', 'central', 'central', 'east', 'east', 'east']"
   ]
  },
  {
   "cell_type": "code",
   "execution_count": 2,
   "id": "facial-freeze",
   "metadata": {},
   "outputs": [],
   "source": [
    "myd = ({'City':city, 'Total Days':totaldays, 'Poor Days':poordays, 'AQI Median':aqimed, 'Zone':zone})"
   ]
  },
  {
   "cell_type": "code",
   "execution_count": 3,
   "id": "american-essay",
   "metadata": {},
   "outputs": [],
   "source": [
    "import pandas as pd\n",
    "\n",
    "aqicities = pd.DataFrame({'City':city, 'Total Days':totaldays, 'Poor Days':poordays, 'AQI Median':aqimed, 'Zone':zone})"
   ]
  },
  {
   "cell_type": "code",
   "execution_count": 4,
   "id": "northern-classroom",
   "metadata": {
    "scrolled": false
   },
   "outputs": [
    {
     "data": {
      "text/html": [
       "<div>\n",
       "<style scoped>\n",
       "    .dataframe tbody tr th:only-of-type {\n",
       "        vertical-align: middle;\n",
       "    }\n",
       "\n",
       "    .dataframe tbody tr th {\n",
       "        vertical-align: top;\n",
       "    }\n",
       "\n",
       "    .dataframe thead th {\n",
       "        text-align: right;\n",
       "    }\n",
       "</style>\n",
       "<table border=\"1\" class=\"dataframe\">\n",
       "  <thead>\n",
       "    <tr style=\"text-align: right;\">\n",
       "      <th></th>\n",
       "      <th>City</th>\n",
       "      <th>Total Days</th>\n",
       "      <th>Poor Days</th>\n",
       "      <th>AQI Median</th>\n",
       "      <th>Zone</th>\n",
       "    </tr>\n",
       "  </thead>\n",
       "  <tbody>\n",
       "    <tr>\n",
       "      <th>0</th>\n",
       "      <td>Seattle</td>\n",
       "      <td>306</td>\n",
       "      <td>14</td>\n",
       "      <td>42</td>\n",
       "      <td>west</td>\n",
       "    </tr>\n",
       "    <tr>\n",
       "      <th>1</th>\n",
       "      <td>San Francisco</td>\n",
       "      <td>314</td>\n",
       "      <td>22</td>\n",
       "      <td>45</td>\n",
       "      <td>west</td>\n",
       "    </tr>\n",
       "    <tr>\n",
       "      <th>2</th>\n",
       "      <td>Los Angeles</td>\n",
       "      <td>275</td>\n",
       "      <td>119</td>\n",
       "      <td>81</td>\n",
       "      <td>west</td>\n",
       "    </tr>\n",
       "    <tr>\n",
       "      <th>3</th>\n",
       "      <td>Denver</td>\n",
       "      <td>366</td>\n",
       "      <td>34</td>\n",
       "      <td>58</td>\n",
       "      <td>mountain</td>\n",
       "    </tr>\n",
       "    <tr>\n",
       "      <th>4</th>\n",
       "      <td>Salt Lake City</td>\n",
       "      <td>366</td>\n",
       "      <td>21</td>\n",
       "      <td>50</td>\n",
       "      <td>mountain</td>\n",
       "    </tr>\n",
       "    <tr>\n",
       "      <th>5</th>\n",
       "      <td>Phoenix</td>\n",
       "      <td>366</td>\n",
       "      <td>70</td>\n",
       "      <td>75</td>\n",
       "      <td>mountain</td>\n",
       "    </tr>\n",
       "    <tr>\n",
       "      <th>6</th>\n",
       "      <td>Chicago</td>\n",
       "      <td>366</td>\n",
       "      <td>28</td>\n",
       "      <td>56</td>\n",
       "      <td>central</td>\n",
       "    </tr>\n",
       "    <tr>\n",
       "      <th>7</th>\n",
       "      <td>St. Louis</td>\n",
       "      <td>366</td>\n",
       "      <td>10</td>\n",
       "      <td>52</td>\n",
       "      <td>central</td>\n",
       "    </tr>\n",
       "    <tr>\n",
       "      <th>8</th>\n",
       "      <td>Dallas</td>\n",
       "      <td>306</td>\n",
       "      <td>24</td>\n",
       "      <td>49</td>\n",
       "      <td>central</td>\n",
       "    </tr>\n",
       "    <tr>\n",
       "      <th>9</th>\n",
       "      <td>Boston</td>\n",
       "      <td>306</td>\n",
       "      <td>0</td>\n",
       "      <td>42</td>\n",
       "      <td>east</td>\n",
       "    </tr>\n",
       "    <tr>\n",
       "      <th>10</th>\n",
       "      <td>Washington D.C.</td>\n",
       "      <td>366</td>\n",
       "      <td>3</td>\n",
       "      <td>42</td>\n",
       "      <td>east</td>\n",
       "    </tr>\n",
       "    <tr>\n",
       "      <th>11</th>\n",
       "      <td>Miami</td>\n",
       "      <td>275</td>\n",
       "      <td>2</td>\n",
       "      <td>44</td>\n",
       "      <td>east</td>\n",
       "    </tr>\n",
       "  </tbody>\n",
       "</table>\n",
       "</div>"
      ],
      "text/plain": [
       "               City  Total Days  Poor Days  AQI Median       Zone\n",
       "0           Seattle         306         14          42       west\n",
       "1     San Francisco         314         22          45       west\n",
       "2       Los Angeles         275        119          81       west\n",
       "3            Denver         366         34          58   mountain\n",
       "4    Salt Lake City         366         21          50   mountain\n",
       "5           Phoenix         366         70          75   mountain\n",
       "6           Chicago         366         28          56    central\n",
       "7         St. Louis         366         10          52    central\n",
       "8            Dallas         306         24          49    central\n",
       "9            Boston         306          0          42       east\n",
       "10  Washington D.C.         366          3          42       east\n",
       "11            Miami         275          2          44       east"
      ]
     },
     "execution_count": 4,
     "metadata": {},
     "output_type": "execute_result"
    }
   ],
   "source": [
    "aqicities"
   ]
  },
  {
   "cell_type": "code",
   "execution_count": 5,
   "id": "advisory-restaurant",
   "metadata": {},
   "outputs": [],
   "source": [
    "aqicities.to_csv('aqicities.csv', index=False)"
   ]
  },
  {
   "cell_type": "code",
   "execution_count": 6,
   "id": "complicated-migration",
   "metadata": {},
   "outputs": [],
   "source": [
    "city = ['Centralia', 'Charlottesville']\n",
    "totaldays = [323, 363]\n",
    "poordays = [0, 0]\n",
    "aqimed = [19, 35]\n",
    "zone = ['west', 'east']\n"
   ]
  },
  {
   "cell_type": "code",
   "execution_count": 7,
   "id": "north-brand",
   "metadata": {},
   "outputs": [],
   "source": [
    "myd2 = ({'City':city, 'Total Days':totaldays, 'Poor Days':poordays, 'AQI Median':aqimed, 'Zone':zone})"
   ]
  },
  {
   "cell_type": "code",
   "execution_count": 8,
   "id": "lovely-technology",
   "metadata": {},
   "outputs": [],
   "source": [
    "aqicities2 = pd.DataFrame({'City':city, 'Total Days':totaldays, 'Poor Days':poordays, 'AQI Median':aqimed, 'Zone':zone})"
   ]
  },
  {
   "cell_type": "code",
   "execution_count": 9,
   "id": "advised-veteran",
   "metadata": {},
   "outputs": [
    {
     "data": {
      "text/html": [
       "<div>\n",
       "<style scoped>\n",
       "    .dataframe tbody tr th:only-of-type {\n",
       "        vertical-align: middle;\n",
       "    }\n",
       "\n",
       "    .dataframe tbody tr th {\n",
       "        vertical-align: top;\n",
       "    }\n",
       "\n",
       "    .dataframe thead th {\n",
       "        text-align: right;\n",
       "    }\n",
       "</style>\n",
       "<table border=\"1\" class=\"dataframe\">\n",
       "  <thead>\n",
       "    <tr style=\"text-align: right;\">\n",
       "      <th></th>\n",
       "      <th>City</th>\n",
       "      <th>Total Days</th>\n",
       "      <th>Poor Days</th>\n",
       "      <th>AQI Median</th>\n",
       "      <th>Zone</th>\n",
       "    </tr>\n",
       "  </thead>\n",
       "  <tbody>\n",
       "    <tr>\n",
       "      <th>0</th>\n",
       "      <td>Centralia</td>\n",
       "      <td>323</td>\n",
       "      <td>0</td>\n",
       "      <td>19</td>\n",
       "      <td>west</td>\n",
       "    </tr>\n",
       "    <tr>\n",
       "      <th>1</th>\n",
       "      <td>Charlottesville</td>\n",
       "      <td>363</td>\n",
       "      <td>0</td>\n",
       "      <td>35</td>\n",
       "      <td>east</td>\n",
       "    </tr>\n",
       "  </tbody>\n",
       "</table>\n",
       "</div>"
      ],
      "text/plain": [
       "              City  Total Days  Poor Days  AQI Median  Zone\n",
       "0        Centralia         323          0          19  west\n",
       "1  Charlottesville         363          0          35  east"
      ]
     },
     "execution_count": 9,
     "metadata": {},
     "output_type": "execute_result"
    }
   ],
   "source": [
    "aqicities2"
   ]
  },
  {
   "cell_type": "code",
   "execution_count": 10,
   "id": "ignored-traveler",
   "metadata": {},
   "outputs": [],
   "source": [
    "aqicities2.to_csv('aqicities2.csv', index = False)"
   ]
  },
  {
   "cell_type": "code",
   "execution_count": 11,
   "id": "separate-agriculture",
   "metadata": {},
   "outputs": [],
   "source": [
    "aqicities2 = pd.read_csv('aqicities2.csv')"
   ]
  },
  {
   "cell_type": "code",
   "execution_count": 12,
   "id": "unknown-difficulty",
   "metadata": {},
   "outputs": [
    {
     "data": {
      "text/html": [
       "<div>\n",
       "<style scoped>\n",
       "    .dataframe tbody tr th:only-of-type {\n",
       "        vertical-align: middle;\n",
       "    }\n",
       "\n",
       "    .dataframe tbody tr th {\n",
       "        vertical-align: top;\n",
       "    }\n",
       "\n",
       "    .dataframe thead th {\n",
       "        text-align: right;\n",
       "    }\n",
       "</style>\n",
       "<table border=\"1\" class=\"dataframe\">\n",
       "  <thead>\n",
       "    <tr style=\"text-align: right;\">\n",
       "      <th></th>\n",
       "      <th>City</th>\n",
       "      <th>Total Days</th>\n",
       "      <th>Poor Days</th>\n",
       "      <th>AQI Median</th>\n",
       "      <th>Zone</th>\n",
       "    </tr>\n",
       "  </thead>\n",
       "  <tbody>\n",
       "    <tr>\n",
       "      <th>0</th>\n",
       "      <td>Centralia</td>\n",
       "      <td>323</td>\n",
       "      <td>0</td>\n",
       "      <td>19</td>\n",
       "      <td>west</td>\n",
       "    </tr>\n",
       "    <tr>\n",
       "      <th>1</th>\n",
       "      <td>Charlottesville</td>\n",
       "      <td>363</td>\n",
       "      <td>0</td>\n",
       "      <td>35</td>\n",
       "      <td>east</td>\n",
       "    </tr>\n",
       "  </tbody>\n",
       "</table>\n",
       "</div>"
      ],
      "text/plain": [
       "              City  Total Days  Poor Days  AQI Median  Zone\n",
       "0        Centralia         323          0          19  west\n",
       "1  Charlottesville         363          0          35  east"
      ]
     },
     "execution_count": 12,
     "metadata": {},
     "output_type": "execute_result"
    }
   ],
   "source": [
    "aqicities2"
   ]
  },
  {
   "cell_type": "code",
   "execution_count": 13,
   "id": "forty-albany",
   "metadata": {},
   "outputs": [],
   "source": [
    "aqicities = pd.read_csv('aqicities.csv')"
   ]
  },
  {
   "cell_type": "code",
   "execution_count": 14,
   "id": "novel-tamil",
   "metadata": {},
   "outputs": [
    {
     "data": {
      "text/html": [
       "<div>\n",
       "<style scoped>\n",
       "    .dataframe tbody tr th:only-of-type {\n",
       "        vertical-align: middle;\n",
       "    }\n",
       "\n",
       "    .dataframe tbody tr th {\n",
       "        vertical-align: top;\n",
       "    }\n",
       "\n",
       "    .dataframe thead th {\n",
       "        text-align: right;\n",
       "    }\n",
       "</style>\n",
       "<table border=\"1\" class=\"dataframe\">\n",
       "  <thead>\n",
       "    <tr style=\"text-align: right;\">\n",
       "      <th></th>\n",
       "      <th>City</th>\n",
       "      <th>Total Days</th>\n",
       "      <th>Poor Days</th>\n",
       "      <th>AQI Median</th>\n",
       "      <th>Zone</th>\n",
       "    </tr>\n",
       "  </thead>\n",
       "  <tbody>\n",
       "    <tr>\n",
       "      <th>0</th>\n",
       "      <td>Seattle</td>\n",
       "      <td>306</td>\n",
       "      <td>14</td>\n",
       "      <td>42</td>\n",
       "      <td>west</td>\n",
       "    </tr>\n",
       "    <tr>\n",
       "      <th>1</th>\n",
       "      <td>San Francisco</td>\n",
       "      <td>314</td>\n",
       "      <td>22</td>\n",
       "      <td>45</td>\n",
       "      <td>west</td>\n",
       "    </tr>\n",
       "    <tr>\n",
       "      <th>2</th>\n",
       "      <td>Los Angeles</td>\n",
       "      <td>275</td>\n",
       "      <td>119</td>\n",
       "      <td>81</td>\n",
       "      <td>west</td>\n",
       "    </tr>\n",
       "    <tr>\n",
       "      <th>3</th>\n",
       "      <td>Denver</td>\n",
       "      <td>366</td>\n",
       "      <td>34</td>\n",
       "      <td>58</td>\n",
       "      <td>mountain</td>\n",
       "    </tr>\n",
       "    <tr>\n",
       "      <th>4</th>\n",
       "      <td>Salt Lake City</td>\n",
       "      <td>366</td>\n",
       "      <td>21</td>\n",
       "      <td>50</td>\n",
       "      <td>mountain</td>\n",
       "    </tr>\n",
       "    <tr>\n",
       "      <th>5</th>\n",
       "      <td>Phoenix</td>\n",
       "      <td>366</td>\n",
       "      <td>70</td>\n",
       "      <td>75</td>\n",
       "      <td>mountain</td>\n",
       "    </tr>\n",
       "    <tr>\n",
       "      <th>6</th>\n",
       "      <td>Chicago</td>\n",
       "      <td>366</td>\n",
       "      <td>28</td>\n",
       "      <td>56</td>\n",
       "      <td>central</td>\n",
       "    </tr>\n",
       "    <tr>\n",
       "      <th>7</th>\n",
       "      <td>St. Louis</td>\n",
       "      <td>366</td>\n",
       "      <td>10</td>\n",
       "      <td>52</td>\n",
       "      <td>central</td>\n",
       "    </tr>\n",
       "    <tr>\n",
       "      <th>8</th>\n",
       "      <td>Dallas</td>\n",
       "      <td>306</td>\n",
       "      <td>24</td>\n",
       "      <td>49</td>\n",
       "      <td>central</td>\n",
       "    </tr>\n",
       "    <tr>\n",
       "      <th>9</th>\n",
       "      <td>Boston</td>\n",
       "      <td>306</td>\n",
       "      <td>0</td>\n",
       "      <td>42</td>\n",
       "      <td>east</td>\n",
       "    </tr>\n",
       "    <tr>\n",
       "      <th>10</th>\n",
       "      <td>Washington D.C.</td>\n",
       "      <td>366</td>\n",
       "      <td>3</td>\n",
       "      <td>42</td>\n",
       "      <td>east</td>\n",
       "    </tr>\n",
       "    <tr>\n",
       "      <th>11</th>\n",
       "      <td>Miami</td>\n",
       "      <td>275</td>\n",
       "      <td>2</td>\n",
       "      <td>44</td>\n",
       "      <td>east</td>\n",
       "    </tr>\n",
       "  </tbody>\n",
       "</table>\n",
       "</div>"
      ],
      "text/plain": [
       "               City  Total Days  Poor Days  AQI Median       Zone\n",
       "0           Seattle         306         14          42       west\n",
       "1     San Francisco         314         22          45       west\n",
       "2       Los Angeles         275        119          81       west\n",
       "3            Denver         366         34          58   mountain\n",
       "4    Salt Lake City         366         21          50   mountain\n",
       "5           Phoenix         366         70          75   mountain\n",
       "6           Chicago         366         28          56    central\n",
       "7         St. Louis         366         10          52    central\n",
       "8            Dallas         306         24          49    central\n",
       "9            Boston         306          0          42       east\n",
       "10  Washington D.C.         366          3          42       east\n",
       "11            Miami         275          2          44       east"
      ]
     },
     "execution_count": 14,
     "metadata": {},
     "output_type": "execute_result"
    }
   ],
   "source": [
    "aqicities"
   ]
  },
  {
   "cell_type": "code",
   "execution_count": 15,
   "id": "adaptive-conjunction",
   "metadata": {},
   "outputs": [
    {
     "data": {
      "text/html": [
       "<div>\n",
       "<style scoped>\n",
       "    .dataframe tbody tr th:only-of-type {\n",
       "        vertical-align: middle;\n",
       "    }\n",
       "\n",
       "    .dataframe tbody tr th {\n",
       "        vertical-align: top;\n",
       "    }\n",
       "\n",
       "    .dataframe thead th {\n",
       "        text-align: right;\n",
       "    }\n",
       "</style>\n",
       "<table border=\"1\" class=\"dataframe\">\n",
       "  <thead>\n",
       "    <tr style=\"text-align: right;\">\n",
       "      <th></th>\n",
       "      <th>City</th>\n",
       "      <th>Total Days</th>\n",
       "      <th>Poor Days</th>\n",
       "      <th>AQI Median</th>\n",
       "      <th>Zone</th>\n",
       "    </tr>\n",
       "  </thead>\n",
       "  <tbody>\n",
       "    <tr>\n",
       "      <th>0</th>\n",
       "      <td>Centralia</td>\n",
       "      <td>323</td>\n",
       "      <td>0</td>\n",
       "      <td>19</td>\n",
       "      <td>west</td>\n",
       "    </tr>\n",
       "    <tr>\n",
       "      <th>1</th>\n",
       "      <td>Charlottesville</td>\n",
       "      <td>363</td>\n",
       "      <td>0</td>\n",
       "      <td>35</td>\n",
       "      <td>east</td>\n",
       "    </tr>\n",
       "  </tbody>\n",
       "</table>\n",
       "</div>"
      ],
      "text/plain": [
       "              City  Total Days  Poor Days  AQI Median  Zone\n",
       "0        Centralia         323          0          19  west\n",
       "1  Charlottesville         363          0          35  east"
      ]
     },
     "execution_count": 15,
     "metadata": {},
     "output_type": "execute_result"
    }
   ],
   "source": [
    "aqicities2"
   ]
  },
  {
   "cell_type": "code",
   "execution_count": 16,
   "id": "clean-bachelor",
   "metadata": {},
   "outputs": [],
   "source": [
    "data1 = pd.read_csv('aqicities.csv')\n",
    "data2 = pd.read_csv('aqicities2.csv')"
   ]
  },
  {
   "cell_type": "code",
   "execution_count": 17,
   "id": "democratic-swedish",
   "metadata": {},
   "outputs": [
    {
     "data": {
      "text/html": [
       "<div>\n",
       "<style scoped>\n",
       "    .dataframe tbody tr th:only-of-type {\n",
       "        vertical-align: middle;\n",
       "    }\n",
       "\n",
       "    .dataframe tbody tr th {\n",
       "        vertical-align: top;\n",
       "    }\n",
       "\n",
       "    .dataframe thead th {\n",
       "        text-align: right;\n",
       "    }\n",
       "</style>\n",
       "<table border=\"1\" class=\"dataframe\">\n",
       "  <thead>\n",
       "    <tr style=\"text-align: right;\">\n",
       "      <th></th>\n",
       "      <th>City</th>\n",
       "      <th>Total Days</th>\n",
       "      <th>Poor Days</th>\n",
       "      <th>AQI Median</th>\n",
       "      <th>Zone</th>\n",
       "    </tr>\n",
       "  </thead>\n",
       "  <tbody>\n",
       "    <tr>\n",
       "      <th>0</th>\n",
       "      <td>Seattle</td>\n",
       "      <td>306</td>\n",
       "      <td>14</td>\n",
       "      <td>42</td>\n",
       "      <td>west</td>\n",
       "    </tr>\n",
       "    <tr>\n",
       "      <th>1</th>\n",
       "      <td>San Francisco</td>\n",
       "      <td>314</td>\n",
       "      <td>22</td>\n",
       "      <td>45</td>\n",
       "      <td>west</td>\n",
       "    </tr>\n",
       "    <tr>\n",
       "      <th>2</th>\n",
       "      <td>Los Angeles</td>\n",
       "      <td>275</td>\n",
       "      <td>119</td>\n",
       "      <td>81</td>\n",
       "      <td>west</td>\n",
       "    </tr>\n",
       "    <tr>\n",
       "      <th>3</th>\n",
       "      <td>Denver</td>\n",
       "      <td>366</td>\n",
       "      <td>34</td>\n",
       "      <td>58</td>\n",
       "      <td>mountain</td>\n",
       "    </tr>\n",
       "    <tr>\n",
       "      <th>4</th>\n",
       "      <td>Salt Lake City</td>\n",
       "      <td>366</td>\n",
       "      <td>21</td>\n",
       "      <td>50</td>\n",
       "      <td>mountain</td>\n",
       "    </tr>\n",
       "    <tr>\n",
       "      <th>5</th>\n",
       "      <td>Phoenix</td>\n",
       "      <td>366</td>\n",
       "      <td>70</td>\n",
       "      <td>75</td>\n",
       "      <td>mountain</td>\n",
       "    </tr>\n",
       "    <tr>\n",
       "      <th>6</th>\n",
       "      <td>Chicago</td>\n",
       "      <td>366</td>\n",
       "      <td>28</td>\n",
       "      <td>56</td>\n",
       "      <td>central</td>\n",
       "    </tr>\n",
       "    <tr>\n",
       "      <th>7</th>\n",
       "      <td>St. Louis</td>\n",
       "      <td>366</td>\n",
       "      <td>10</td>\n",
       "      <td>52</td>\n",
       "      <td>central</td>\n",
       "    </tr>\n",
       "    <tr>\n",
       "      <th>8</th>\n",
       "      <td>Dallas</td>\n",
       "      <td>306</td>\n",
       "      <td>24</td>\n",
       "      <td>49</td>\n",
       "      <td>central</td>\n",
       "    </tr>\n",
       "    <tr>\n",
       "      <th>9</th>\n",
       "      <td>Boston</td>\n",
       "      <td>306</td>\n",
       "      <td>0</td>\n",
       "      <td>42</td>\n",
       "      <td>east</td>\n",
       "    </tr>\n",
       "    <tr>\n",
       "      <th>10</th>\n",
       "      <td>Washington D.C.</td>\n",
       "      <td>366</td>\n",
       "      <td>3</td>\n",
       "      <td>42</td>\n",
       "      <td>east</td>\n",
       "    </tr>\n",
       "    <tr>\n",
       "      <th>11</th>\n",
       "      <td>Miami</td>\n",
       "      <td>275</td>\n",
       "      <td>2</td>\n",
       "      <td>44</td>\n",
       "      <td>east</td>\n",
       "    </tr>\n",
       "  </tbody>\n",
       "</table>\n",
       "</div>"
      ],
      "text/plain": [
       "               City  Total Days  Poor Days  AQI Median       Zone\n",
       "0           Seattle         306         14          42       west\n",
       "1     San Francisco         314         22          45       west\n",
       "2       Los Angeles         275        119          81       west\n",
       "3            Denver         366         34          58   mountain\n",
       "4    Salt Lake City         366         21          50   mountain\n",
       "5           Phoenix         366         70          75   mountain\n",
       "6           Chicago         366         28          56    central\n",
       "7         St. Louis         366         10          52    central\n",
       "8            Dallas         306         24          49    central\n",
       "9            Boston         306          0          42       east\n",
       "10  Washington D.C.         366          3          42       east\n",
       "11            Miami         275          2          44       east"
      ]
     },
     "execution_count": 17,
     "metadata": {},
     "output_type": "execute_result"
    }
   ],
   "source": [
    "data1"
   ]
  },
  {
   "cell_type": "code",
   "execution_count": 18,
   "id": "finnish-timothy",
   "metadata": {},
   "outputs": [
    {
     "data": {
      "text/html": [
       "<div>\n",
       "<style scoped>\n",
       "    .dataframe tbody tr th:only-of-type {\n",
       "        vertical-align: middle;\n",
       "    }\n",
       "\n",
       "    .dataframe tbody tr th {\n",
       "        vertical-align: top;\n",
       "    }\n",
       "\n",
       "    .dataframe thead th {\n",
       "        text-align: right;\n",
       "    }\n",
       "</style>\n",
       "<table border=\"1\" class=\"dataframe\">\n",
       "  <thead>\n",
       "    <tr style=\"text-align: right;\">\n",
       "      <th></th>\n",
       "      <th>City</th>\n",
       "      <th>Total Days</th>\n",
       "      <th>Poor Days</th>\n",
       "      <th>AQI Median</th>\n",
       "      <th>Zone</th>\n",
       "    </tr>\n",
       "  </thead>\n",
       "  <tbody>\n",
       "    <tr>\n",
       "      <th>0</th>\n",
       "      <td>Centralia</td>\n",
       "      <td>323</td>\n",
       "      <td>0</td>\n",
       "      <td>19</td>\n",
       "      <td>west</td>\n",
       "    </tr>\n",
       "    <tr>\n",
       "      <th>1</th>\n",
       "      <td>Charlottesville</td>\n",
       "      <td>363</td>\n",
       "      <td>0</td>\n",
       "      <td>35</td>\n",
       "      <td>east</td>\n",
       "    </tr>\n",
       "  </tbody>\n",
       "</table>\n",
       "</div>"
      ],
      "text/plain": [
       "              City  Total Days  Poor Days  AQI Median  Zone\n",
       "0        Centralia         323          0          19  west\n",
       "1  Charlottesville         363          0          35  east"
      ]
     },
     "execution_count": 18,
     "metadata": {},
     "output_type": "execute_result"
    }
   ],
   "source": [
    "data2"
   ]
  },
  {
   "cell_type": "code",
   "execution_count": 19,
   "id": "legal-addition",
   "metadata": {},
   "outputs": [
    {
     "name": "stdout",
     "output_type": "stream",
     "text": [
      "               City  Total Days  Poor Days  AQI Median       Zone\n",
      "0           Seattle         306         14          42       west\n",
      "1     San Francisco         314         22          45       west\n",
      "2       Los Angeles         275        119          81       west\n",
      "3            Denver         366         34          58   mountain\n",
      "4    Salt Lake City         366         21          50   mountain\n",
      "5           Phoenix         366         70          75   mountain\n",
      "6           Chicago         366         28          56    central\n",
      "7         St. Louis         366         10          52    central\n",
      "8            Dallas         306         24          49    central\n",
      "9            Boston         306          0          42       east\n",
      "10  Washington D.C.         366          3          42       east\n",
      "11            Miami         275          2          44       east\n",
      "12        Centralia         323          0          19       west\n",
      "13  Charlottesville         363          0          35       east\n"
     ]
    }
   ],
   "source": [
    "allcities = pd.merge(data1,data2, how='outer')\n",
    "print(allcities)"
   ]
  },
  {
   "cell_type": "code",
   "execution_count": 20,
   "id": "weighted-membership",
   "metadata": {},
   "outputs": [
    {
     "data": {
      "text/plain": [
       "70"
      ]
     },
     "execution_count": 20,
     "metadata": {},
     "output_type": "execute_result"
    }
   ],
   "source": [
    "allcities.size"
   ]
  },
  {
   "cell_type": "code",
   "execution_count": 21,
   "id": "arctic-month",
   "metadata": {},
   "outputs": [
    {
     "data": {
      "text/plain": [
       "(14, 5)"
      ]
     },
     "execution_count": 21,
     "metadata": {},
     "output_type": "execute_result"
    }
   ],
   "source": [
    "allcities.shape"
   ]
  },
  {
   "cell_type": "code",
   "execution_count": 22,
   "id": "lasting-character",
   "metadata": {},
   "outputs": [
    {
     "data": {
      "text/plain": [
       "2"
      ]
     },
     "execution_count": 22,
     "metadata": {},
     "output_type": "execute_result"
    }
   ],
   "source": [
    "allcities.ndim"
   ]
  },
  {
   "cell_type": "code",
   "execution_count": 23,
   "id": "spoken-telescope",
   "metadata": {},
   "outputs": [
    {
     "data": {
      "text/plain": [
       "City          object\n",
       "Total Days     int64\n",
       "Poor Days      int64\n",
       "AQI Median     int64\n",
       "Zone          object\n",
       "dtype: object"
      ]
     },
     "execution_count": 23,
     "metadata": {},
     "output_type": "execute_result"
    }
   ],
   "source": [
    "allcities.dtypes"
   ]
  },
  {
   "cell_type": "code",
   "execution_count": 24,
   "id": "heated-summit",
   "metadata": {},
   "outputs": [
    {
     "name": "stdout",
     "output_type": "stream",
     "text": [
      "<class 'pandas.core.frame.DataFrame'>\n",
      "Int64Index: 14 entries, 0 to 13\n",
      "Data columns (total 5 columns):\n",
      " #   Column      Non-Null Count  Dtype \n",
      "---  ------      --------------  ----- \n",
      " 0   City        14 non-null     object\n",
      " 1   Total Days  14 non-null     int64 \n",
      " 2   Poor Days   14 non-null     int64 \n",
      " 3   AQI Median  14 non-null     int64 \n",
      " 4   Zone        14 non-null     object\n",
      "dtypes: int64(3), object(2)\n",
      "memory usage: 672.0+ bytes\n"
     ]
    }
   ],
   "source": [
    "allcities.info()"
   ]
  },
  {
   "cell_type": "code",
   "execution_count": 25,
   "id": "ranking-latest",
   "metadata": {},
   "outputs": [
    {
     "data": {
      "text/html": [
       "<div>\n",
       "<style scoped>\n",
       "    .dataframe tbody tr th:only-of-type {\n",
       "        vertical-align: middle;\n",
       "    }\n",
       "\n",
       "    .dataframe tbody tr th {\n",
       "        vertical-align: top;\n",
       "    }\n",
       "\n",
       "    .dataframe thead th {\n",
       "        text-align: right;\n",
       "    }\n",
       "</style>\n",
       "<table border=\"1\" class=\"dataframe\">\n",
       "  <thead>\n",
       "    <tr style=\"text-align: right;\">\n",
       "      <th></th>\n",
       "      <th>City</th>\n",
       "      <th>Total Days</th>\n",
       "      <th>Poor Days</th>\n",
       "      <th>AQI Median</th>\n",
       "      <th>Zone</th>\n",
       "    </tr>\n",
       "  </thead>\n",
       "  <tbody>\n",
       "    <tr>\n",
       "      <th>0</th>\n",
       "      <td>Seattle</td>\n",
       "      <td>306</td>\n",
       "      <td>14</td>\n",
       "      <td>42</td>\n",
       "      <td>west</td>\n",
       "    </tr>\n",
       "    <tr>\n",
       "      <th>1</th>\n",
       "      <td>San Francisco</td>\n",
       "      <td>314</td>\n",
       "      <td>22</td>\n",
       "      <td>45</td>\n",
       "      <td>west</td>\n",
       "    </tr>\n",
       "    <tr>\n",
       "      <th>2</th>\n",
       "      <td>Los Angeles</td>\n",
       "      <td>275</td>\n",
       "      <td>119</td>\n",
       "      <td>81</td>\n",
       "      <td>west</td>\n",
       "    </tr>\n",
       "    <tr>\n",
       "      <th>3</th>\n",
       "      <td>Denver</td>\n",
       "      <td>366</td>\n",
       "      <td>34</td>\n",
       "      <td>58</td>\n",
       "      <td>mountain</td>\n",
       "    </tr>\n",
       "    <tr>\n",
       "      <th>4</th>\n",
       "      <td>Salt Lake City</td>\n",
       "      <td>366</td>\n",
       "      <td>21</td>\n",
       "      <td>50</td>\n",
       "      <td>mountain</td>\n",
       "    </tr>\n",
       "    <tr>\n",
       "      <th>5</th>\n",
       "      <td>Phoenix</td>\n",
       "      <td>366</td>\n",
       "      <td>70</td>\n",
       "      <td>75</td>\n",
       "      <td>mountain</td>\n",
       "    </tr>\n",
       "    <tr>\n",
       "      <th>6</th>\n",
       "      <td>Chicago</td>\n",
       "      <td>366</td>\n",
       "      <td>28</td>\n",
       "      <td>56</td>\n",
       "      <td>central</td>\n",
       "    </tr>\n",
       "    <tr>\n",
       "      <th>7</th>\n",
       "      <td>St. Louis</td>\n",
       "      <td>366</td>\n",
       "      <td>10</td>\n",
       "      <td>52</td>\n",
       "      <td>central</td>\n",
       "    </tr>\n",
       "    <tr>\n",
       "      <th>8</th>\n",
       "      <td>Dallas</td>\n",
       "      <td>306</td>\n",
       "      <td>24</td>\n",
       "      <td>49</td>\n",
       "      <td>central</td>\n",
       "    </tr>\n",
       "    <tr>\n",
       "      <th>9</th>\n",
       "      <td>Boston</td>\n",
       "      <td>306</td>\n",
       "      <td>0</td>\n",
       "      <td>42</td>\n",
       "      <td>east</td>\n",
       "    </tr>\n",
       "    <tr>\n",
       "      <th>10</th>\n",
       "      <td>Washington D.C.</td>\n",
       "      <td>366</td>\n",
       "      <td>3</td>\n",
       "      <td>42</td>\n",
       "      <td>east</td>\n",
       "    </tr>\n",
       "    <tr>\n",
       "      <th>11</th>\n",
       "      <td>Miami</td>\n",
       "      <td>275</td>\n",
       "      <td>2</td>\n",
       "      <td>44</td>\n",
       "      <td>east</td>\n",
       "    </tr>\n",
       "    <tr>\n",
       "      <th>12</th>\n",
       "      <td>Centralia</td>\n",
       "      <td>323</td>\n",
       "      <td>0</td>\n",
       "      <td>19</td>\n",
       "      <td>west</td>\n",
       "    </tr>\n",
       "    <tr>\n",
       "      <th>13</th>\n",
       "      <td>Charlottesville</td>\n",
       "      <td>363</td>\n",
       "      <td>0</td>\n",
       "      <td>35</td>\n",
       "      <td>east</td>\n",
       "    </tr>\n",
       "  </tbody>\n",
       "</table>\n",
       "</div>"
      ],
      "text/plain": [
       "               City  Total Days  Poor Days  AQI Median       Zone\n",
       "0           Seattle         306         14          42       west\n",
       "1     San Francisco         314         22          45       west\n",
       "2       Los Angeles         275        119          81       west\n",
       "3            Denver         366         34          58   mountain\n",
       "4    Salt Lake City         366         21          50   mountain\n",
       "5           Phoenix         366         70          75   mountain\n",
       "6           Chicago         366         28          56    central\n",
       "7         St. Louis         366         10          52    central\n",
       "8            Dallas         306         24          49    central\n",
       "9            Boston         306          0          42       east\n",
       "10  Washington D.C.         366          3          42       east\n",
       "11            Miami         275          2          44       east\n",
       "12        Centralia         323          0          19       west\n",
       "13  Charlottesville         363          0          35       east"
      ]
     },
     "execution_count": 25,
     "metadata": {},
     "output_type": "execute_result"
    }
   ],
   "source": [
    "allcities"
   ]
  },
  {
   "cell_type": "code",
   "execution_count": 26,
   "id": "premier-butter",
   "metadata": {},
   "outputs": [
    {
     "data": {
      "text/plain": [
       "Total Days    333.142857\n",
       "Poor Days      24.785714\n",
       "AQI Median     49.285714\n",
       "dtype: float64"
      ]
     },
     "execution_count": 26,
     "metadata": {},
     "output_type": "execute_result"
    }
   ],
   "source": [
    "allcities.mean()"
   ]
  },
  {
   "cell_type": "code",
   "execution_count": 27,
   "id": "romance-signature",
   "metadata": {},
   "outputs": [],
   "source": [
    "allcities.to_csv('allcitiesAQI.csv', index = False\n",
    "            )"
   ]
  },
  {
   "cell_type": "code",
   "execution_count": null,
   "id": "optional-petersburg",
   "metadata": {},
   "outputs": [],
   "source": []
  }
 ],
 "metadata": {
  "kernelspec": {
   "display_name": "Python 3",
   "language": "python",
   "name": "python3"
  },
  "language_info": {
   "codemirror_mode": {
    "name": "ipython",
    "version": 3
   },
   "file_extension": ".py",
   "mimetype": "text/x-python",
   "name": "python",
   "nbconvert_exporter": "python",
   "pygments_lexer": "ipython3",
   "version": "3.8.8"
  }
 },
 "nbformat": 4,
 "nbformat_minor": 5
}
