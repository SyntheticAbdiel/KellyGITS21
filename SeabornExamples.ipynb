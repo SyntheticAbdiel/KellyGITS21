{
 "cells": [
  {
   "cell_type": "code",
   "execution_count": null,
   "id": "crucial-joining",
   "metadata": {},
   "outputs": [],
   "source": [
    "import matplotlib.pyplot as plt\n",
    "import seaborn as sns\n",
    "\n",
    "plt.rcParams[\"figure.figsize\"] =[10,8]\n",
    "\n",
    "tips_data = sns.load_dataset('tips')\n",
    "\n",
    "tips_data.head()"
   ]
  },
  {
   "cell_type": "code",
   "execution_count": null,
   "id": "beginning-killing",
   "metadata": {},
   "outputs": [],
   "source": [
    "plt.rcParams[\"figure.figsize\"] =[10,8]\n",
    "sns.displot(tips_data['total_bill'])"
   ]
  },
  {
   "cell_type": "code",
   "execution_count": null,
   "id": "human-maker",
   "metadata": {},
   "outputs": [],
   "source": [
    "sns.displot(tips_data['tip'], kde=True)"
   ]
  },
  {
   "cell_type": "code",
   "execution_count": null,
   "id": "behavioral-trading",
   "metadata": {},
   "outputs": [],
   "source": [
    "sns.jointplot(x='total_bill',y='tip', data=tips_data)"
   ]
  },
  {
   "cell_type": "code",
   "execution_count": null,
   "id": "behavioral-procedure",
   "metadata": {},
   "outputs": [],
   "source": [
    "sns.jointplot(x='size',y='total_bill', data=tips_data, kind='reg')"
   ]
  },
  {
   "cell_type": "code",
   "execution_count": null,
   "id": "mineral-advice",
   "metadata": {},
   "outputs": [],
   "source": [
    "sns.pairplot(data=tips_data)"
   ]
  },
  {
   "cell_type": "code",
   "execution_count": null,
   "id": "collect-barrel",
   "metadata": {},
   "outputs": [],
   "source": [
    "sns.pairplot(data=tips_data, hue='time')"
   ]
  },
  {
   "cell_type": "code",
   "execution_count": null,
   "id": "thrown-compression",
   "metadata": {},
   "outputs": [],
   "source": [
    "sns.rugplot(tips_data['total_bill'])"
   ]
  },
  {
   "cell_type": "code",
   "execution_count": null,
   "id": "exterior-judgment",
   "metadata": {},
   "outputs": [],
   "source": [
    "import matplotlib.pyplot as plt\n",
    "import seaborn as sns\n",
    "\n",
    "plt.rcParams['figure.figsize'] = [8,6]\n",
    "sns.set_style('darkgrid')\n",
    "\n",
    "titanic = sns.load_dataset('titanic')\n",
    "\n",
    "titanic.head()\n",
    "\n"
   ]
  },
  {
   "cell_type": "code",
   "execution_count": null,
   "id": "excess-administration",
   "metadata": {},
   "outputs": [],
   "source": [
    "sns.barplot(x='pclass',y='age',data=titanic)"
   ]
  },
  {
   "cell_type": "code",
   "execution_count": null,
   "id": "correct-third",
   "metadata": {},
   "outputs": [],
   "source": [
    "sns.barplot(x='pclass',y='age',hue='sex',data=titanic)"
   ]
  },
  {
   "cell_type": "code",
   "execution_count": null,
   "id": "superb-light",
   "metadata": {},
   "outputs": [],
   "source": [
    "sns.catplot(x='pclass',y='age',hue='sex',col='survived',data=titanic, kind='bar')"
   ]
  },
  {
   "cell_type": "code",
   "execution_count": null,
   "id": "straight-season",
   "metadata": {},
   "outputs": [],
   "source": [
    "sns.countplot(x='pclass',hue='sex',data=titanic)"
   ]
  },
  {
   "cell_type": "code",
   "execution_count": null,
   "id": "adequate-myanmar",
   "metadata": {},
   "outputs": [],
   "source": [
    "sns.boxplot(y=titanic[\"fare\"])"
   ]
  },
  {
   "cell_type": "code",
   "execution_count": null,
   "id": "intense-active",
   "metadata": {},
   "outputs": [],
   "source": [
    "sns.boxplot(x=\"alone\", y=\"age\",data=titanic)"
   ]
  },
  {
   "cell_type": "code",
   "execution_count": null,
   "id": "right-geography",
   "metadata": {},
   "outputs": [],
   "source": [
    "sns.boxplot(x=\"alone\", y=\"age\", hue ='sex',data=titanic)"
   ]
  },
  {
   "cell_type": "code",
   "execution_count": null,
   "id": "finished-lincoln",
   "metadata": {},
   "outputs": [],
   "source": [
    "sns.boxplot(x=\"alone\", y=\"age\", hue ='sex',data=titanic, showfliers = False)"
   ]
  },
  {
   "cell_type": "code",
   "execution_count": null,
   "id": "underlying-baker",
   "metadata": {},
   "outputs": [],
   "source": [
    "sns.violinplot(x=\"alone\", y=\"age\",data=titanic)"
   ]
  },
  {
   "cell_type": "code",
   "execution_count": null,
   "id": "laughing-pressing",
   "metadata": {},
   "outputs": [],
   "source": [
    "sns.violinplot(x=\"alone\", y=\"age\", hue ='sex',data=titanic)"
   ]
  },
  {
   "cell_type": "code",
   "execution_count": null,
   "id": "colonial-bicycle",
   "metadata": {},
   "outputs": [],
   "source": [
    "sns.violinplot(x=\"alone\", y=\"age\", hue ='sex',data=titanic, split=True)"
   ]
  },
  {
   "cell_type": "code",
   "execution_count": null,
   "id": "immune-player",
   "metadata": {},
   "outputs": [],
   "source": [
    "sns.stripplot(x=\"alone\", y=\"age\",data=titanic)"
   ]
  },
  {
   "cell_type": "code",
   "execution_count": null,
   "id": "surrounded-processing",
   "metadata": {},
   "outputs": [],
   "source": [
    "sns.stripplot(x=\"alone\", y=\"age\", hue ='sex',data=titanic)"
   ]
  },
  {
   "cell_type": "code",
   "execution_count": null,
   "id": "swiss-cruise",
   "metadata": {},
   "outputs": [],
   "source": [
    "sns.stripplot(x=\"alone\", y=\"age\", hue ='sex',data=titanic, dodge=True)"
   ]
  },
  {
   "cell_type": "code",
   "execution_count": null,
   "id": "nuclear-presence",
   "metadata": {},
   "outputs": [],
   "source": [
    "sns.swarmplot(x=\"alone\", y=\"age\",data=titanic)"
   ]
  },
  {
   "cell_type": "code",
   "execution_count": null,
   "id": "hispanic-thesis",
   "metadata": {},
   "outputs": [],
   "source": [
    "sns.swarmplot(x=\"alone\", y=\"age\", hue ='sex',data=titanic)"
   ]
  },
  {
   "cell_type": "code",
   "execution_count": null,
   "id": "suspected-reflection",
   "metadata": {},
   "outputs": [],
   "source": [
    "sns.swarmplot(x=\"alone\", y=\"age\", hue ='sex',data=titanic, dodge=True)"
   ]
  }
 ],
 "metadata": {
  "kernelspec": {
   "display_name": "Python 3",
   "language": "python",
   "name": "python3"
  },
  "language_info": {
   "codemirror_mode": {
    "name": "ipython",
    "version": 3
   },
   "file_extension": ".py",
   "mimetype": "text/x-python",
   "name": "python",
   "nbconvert_exporter": "python",
   "pygments_lexer": "ipython3",
   "version": "3.7.10"
  }
 },
 "nbformat": 4,
 "nbformat_minor": 5
}
